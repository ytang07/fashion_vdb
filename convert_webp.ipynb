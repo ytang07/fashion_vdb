{
 "cells": [
  {
   "cell_type": "code",
   "execution_count": 1,
   "metadata": {},
   "outputs": [
    {
     "name": "stdout",
     "output_type": "stream",
     "text": [
      "Requirement already satisfied: Pillow in ./fai/lib/python3.10/site-packages (9.5.0)\n"
     ]
    }
   ],
   "source": [
    "! pip install Pillow"
   ]
  },
  {
   "cell_type": "code",
   "execution_count": 28,
   "metadata": {},
   "outputs": [],
   "source": [
    "from PIL import Image\n",
    "import os\n",
    "\n",
    "for file in os.listdir(\".\"):\n",
    "    if file == \".DS_Store\":\n",
    "        continue\n",
    "    try:\n",
    "        title, ext = file.split(\".\")\n",
    "    except:\n",
    "        continue\n",
    "    if ext != \"jpg\" and ext != \"jpeg\" and ext != \"env\" and ext != \"ipynb\":\n",
    "        im = Image.open(file).convert(\"RGB\")\n",
    "        im.save(f\"{title}.jpg\", \"jpeg\")"
   ]
  },
  {
   "cell_type": "code",
   "execution_count": null,
   "metadata": {},
   "outputs": [],
   "source": []
  }
 ],
 "metadata": {
  "kernelspec": {
   "display_name": "fai",
   "language": "python",
   "name": "python3"
  },
  "language_info": {
   "codemirror_mode": {
    "name": "ipython",
    "version": 3
   },
   "file_extension": ".py",
   "mimetype": "text/x-python",
   "name": "python",
   "nbconvert_exporter": "python",
   "pygments_lexer": "ipython3",
   "version": "3.10.11"
  },
  "orig_nbformat": 4
 },
 "nbformat": 4,
 "nbformat_minor": 2
}
